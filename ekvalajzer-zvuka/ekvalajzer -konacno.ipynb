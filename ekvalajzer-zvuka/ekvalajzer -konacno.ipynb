{
 "cells": [
  {
   "cell_type": "code",
   "execution_count": 16,
   "id": "2e4dea2c",
   "metadata": {
    "pycharm": {
     "name": "#%%\n"
    }
   },
   "outputs": [],
   "source": [
    "from scipy.io import wavfile\n",
    "import numpy as np\n",
    "import matplotlib.pyplot as plt\n",
    "import scipy.fft as fft\n",
    "import IPython\n",
    "from ipywidgets import interact\n",
    "from scipy import signal\n",
    "from scipy.signal import butter\n",
    "import matplotlib as mpl"
   ]
  },
  {
   "cell_type": "code",
   "execution_count": 17,
   "id": "57dc77aa",
   "metadata": {},
   "outputs": [],
   "source": [
    "mpl.rc('text', usetex = False)\n",
    "mpl.rc('font', family = 'Serif', size = 16)"
   ]
  },
  {
   "cell_type": "code",
   "execution_count": null,
   "id": "3b0526e6",
   "metadata": {
    "pycharm": {
     "name": "#%%\n"
    }
   },
   "outputs": [],
   "source": [
    "fs, x = wavfile.read('pticice_avion.wav')\n",
    "IPython.display.display(IPython.display.Audio(x, rate=fs))\n",
    "N = len(x)\n",
    "f = np.arange(N) * fs / N\n",
    "X = fft.fft(x)"
   ]
  },
  {
   "cell_type": "code",
   "execution_count": 19,
   "id": "8735e55f",
   "metadata": {},
   "outputs": [
    {
     "data": {
      "application/vnd.jupyter.widget-view+json": {
       "model_id": "fc1f9981c892410a9a8710c7143dee77",
       "version_major": 2,
       "version_minor": 0
      },
      "text/plain": [
       "interactive(children=(FloatSlider(value=1.0, description='gain_bass', max=3.0, step=0.001), FloatSlider(value=…"
      ]
     },
     "metadata": {},
     "output_type": "display_data"
    }
   ],
   "source": [
    "@interact(gain_bass=(0, 3, 0.001), gain_tremble = (0, 3, 0.001))\n",
    "def amplitude(gain_bass, gain_tremble):\n",
    "    fg=1e3\n",
    "    Y = X.copy()\n",
    "    Y[f>fg] *= gain_tremble\n",
    "    Y[f<=fg] *= gain_bass\n",
    "\n",
    "    for k in range(1, N//2):\n",
    "        Y[N - k] = np.conj(Y[k])\n",
    "        \n",
    "    plt.title('Bass/tremble equalizer:')\n",
    "    plt.plot(f[:N//2], abs(X)[:N//2], label='$Input$')\n",
    "    plt.plot(f[:N//2], abs(Y)[:N//2], label='$Output$')\n",
    "    plt.grid()\n",
    "    plt.ylabel('|Y[k]|'), plt.xlabel('f')\n",
    "    plt.legend()\n",
    "    plt.show()\n",
    "    y = np.real(fft.ifft(Y))\n",
    "    IPython.display.display(IPython.display.Audio(y, rate=fs))"
   ]
  },
  {
   "cell_type": "code",
   "execution_count": 20,
   "id": "a9f13b72",
   "metadata": {},
   "outputs": [
    {
     "data": {
      "application/vnd.jupyter.widget-view+json": {
       "model_id": "41c43899aa74458db5e648cff43c5506",
       "version_major": 2,
       "version_minor": 0
      },
      "text/plain": [
       "interactive(children=(IntSlider(value=11025, description='freq_lowcut', max=22049, min=1), IntSlider(value=110…"
      ]
     },
     "metadata": {},
     "output_type": "display_data"
    }
   ],
   "source": [
    "@interact(freq_lowcut=(1, 22049), freq_highcut=(1, 22049), gain=(0, 3, 0.001))\n",
    "def gen_signal(freq_lowcut, freq_highcut, gain):\n",
    "    if freq_lowcut > freq_highcut:\n",
    "        freq_highcut, freq_lowcut= freq_lowcut, freq_highcut\n",
    "        \n",
    "    filt = signal.butter(5, (freq_lowcut, freq_highcut), 'bandpass', fs=44100, output='sos')\n",
    "    Y = signal.sosfilt(filt, gain*x)\n",
    "    plt.title('Filter/gain applied signal:')\n",
    "    plt.figure(1,figsize=(8, 5), dpi=70) \n",
    "    plt.plot(f[:N//2], abs(X)[:N//2], label='$Input$')\n",
    "    plt.plot(f[:N//2], abs(fft.fft(Y))[:N//2], label='$Output$')\n",
    "    plt.grid()\n",
    "    plt.legend()\n",
    "    plt.ylabel('|Y[k]|'), plt.xlabel('f')\n",
    "    plt.show()\n",
    "    \n",
    "    filt1 = signal.butter(5, (1, freq_lowcut), 'bandpass', fs=44100, output='sos')\n",
    "    Y1 = signal.sosfilt(filt1, x)\n",
    "    plt.subplot(2,1,1)\n",
    "    plt.plot(f[:N//2], abs(X)[:N//2])\n",
    "    plt.plot(f[:N//2], abs(fft.fft(Y1))[:N//2])\n",
    "    plt.grid()\n",
    "    plt.ylabel('|Y1[k]|'), plt.xlabel('f')\n",
    "    plt.show()\n",
    "    \n",
    "    filt2 = signal.butter(5, (freq_highcut, 22049), 'bandpass', fs=44100, output='sos')\n",
    "    Y2 = signal.sosfilt(filt2, x)\n",
    "    plt.subplot(2,1,2)\n",
    "    plt.plot(f[:N//2], abs(X)[:N//2])\n",
    "    plt.plot(f[:N//2], abs(fft.fft(Y2))[:N//2])\n",
    "    plt.grid()\n",
    "    plt.ylabel('|Y2[k]|'), plt.xlabel('f')\n",
    "    plt.show()\n",
    "    \n",
    "    Z=Y+Y1+Y2\n",
    "    plt.title('Final signal:')\n",
    "    plt.figure(1,figsize=(8, 5), dpi=70)\n",
    "    plt.plot(f[:N//2], abs(X)[:N//2], label='$Input$')\n",
    "    plt.plot(f[:N//2], abs(fft.fft(Z))[:N//2], label='$Input$')\n",
    "    plt.grid()\n",
    "    plt.ylabel('|Z[k]|'), plt.xlabel('f')\n",
    "    plt.legend()\n",
    "    plt.show()\n",
    "    IPython.display.display(IPython.display.Audio(Z, rate=fs))"
   ]
  }
 ],
 "metadata": {
  "kernelspec": {
   "display_name": "Python 3 (ipykernel)",
   "language": "python",
   "name": "python3"
  },
  "language_info": {
   "codemirror_mode": {
    "name": "ipython",
    "version": 3
   },
   "file_extension": ".py",
   "mimetype": "text/x-python",
   "name": "python",
   "nbconvert_exporter": "python",
   "pygments_lexer": "ipython3",
   "version": "3.9.12"
  },
  "vscode": {
   "interpreter": {
    "hash": "e593ac106456af50ce7af38f9671c411b49d6cd90f9b885e167f0f594e09038c"
   }
  }
 },
 "nbformat": 4,
 "nbformat_minor": 5
}
